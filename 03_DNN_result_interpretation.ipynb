{
 "cells": [
  {
   "cell_type": "code",
   "execution_count": null,
   "metadata": {},
   "outputs": [],
   "source": [
    "import numpy as np\n",
    "import os\n",
    "from scipy import io as sio\n",
    "from scipy import stats\n",
    "import pandas as pd\n",
    "import torch\n",
    "from IPython.display import Image \n",
    "import matplotlib.pyplot as plt\n",
    "%matplotlib inline"
   ]
  },
  {
   "cell_type": "markdown",
   "metadata": {},
   "source": [
    "# Load saved model"
   ]
  },
  {
   "cell_type": "code",
   "execution_count": null,
   "metadata": {},
   "outputs": [],
   "source": [
    "model = torch.load('/users/hailey/data/05_conference_workshop_grant/2023_KNU_bootcamp/results/result_20230205_202502/Outer_fold_1/model_fold_4.pt', map_location='cpu')\n",
    "print(model['ext_1.weight'].shape,model['prd_1.weight'].shape,model['prd_2.weight'].shape)"
   ]
  },
  {
   "cell_type": "markdown",
   "metadata": {},
   "source": [
    "# Make weight feature map from weight parameters"
   ]
  },
  {
   "cell_type": "code",
   "execution_count": null,
   "metadata": {},
   "outputs": [],
   "source": [
    "# Weight feature if multiplying weight matrices across layers\n",
    "WF = torch.matmul(model['ext_1.weight'].T, model['prd_1.weight'].T) \n",
    "WF = torch.matmul(WF, model['prd_2.weight'].T)\n",
    "WF = np.array(WF).squeeze()"
   ]
  },
  {
   "cell_type": "markdown",
   "metadata": {},
   "source": [
    "# Visualize on 2D matrix"
   ]
  },
  {
   "cell_type": "code",
   "execution_count": null,
   "metadata": {},
   "outputs": [],
   "source": [
    "n_rois =  200\n",
    "# Mapping from 1D to 2D (1 x 200*199/2)  = 1 x 19900\n",
    "upper_tri_idx=np.triu(np.ones((n_rois,n_rois),dtype=np.float32),k=1)\n",
    "\n",
    "WF_2d = np.zeros((n_rois,n_rois))\n",
    "WF_2d[np.where(upper_tri_idx==1)] = WF \n",
    "WF_2d = WF_2d+WF_2d.T"
   ]
  },
  {
   "cell_type": "code",
   "execution_count": null,
   "metadata": {},
   "outputs": [],
   "source": [
    "plt.figure(figsize=(5,5))\n",
    "plt.imshow(WF_2d,cmap='RdBu_r',vmin=-0.07,vmax=0.07)\n",
    "plt.show()"
   ]
  },
  {
   "cell_type": "markdown",
   "metadata": {},
   "source": [
    "# Sort order of ROIs by 7 network"
   ]
  },
  {
   "cell_type": "code",
   "execution_count": null,
   "metadata": {},
   "outputs": [],
   "source": [
    "Image(\"/users/hailey/data/05_conference_workshop_grant/2023_KNU_bootcamp/to_share/7network.jpg\")"
   ]
  },
  {
   "cell_type": "code",
   "execution_count": null,
   "metadata": {},
   "outputs": [],
   "source": [
    "network_info = np.load('/users/hailey/data/05_conference_workshop_grant/2023_KNU_bootcamp/to_share/7network_order.npz')\n",
    "network_label, network_orderidx, network_length = network_info['label'], network_info['order_idx'], network_info['length']"
   ]
  },
  {
   "cell_type": "code",
   "execution_count": null,
   "metadata": {
    "scrolled": true
   },
   "outputs": [],
   "source": [
    "WF_2d_sort = WF_2d[network_orderidx,:]\n",
    "WF_2d_sort = WF_2d_sort[:,network_orderidx]\n",
    "\n",
    "plt.figure(figsize=(5,5))\n",
    "plt.imshow(WF_2d_sort,cmap='RdBu_r',vmin=-0.07,vmax=0.07)\n",
    "for net in range(7):\n",
    "    plt.hlines(y=np.sum(network_length[:net]),xmin=0,xmax=n_rois)\n",
    "    plt.vlines(x=np.sum(network_length[:net]),ymin=0,ymax=n_rois)\n",
    "plt.show()"
   ]
  },
  {
   "cell_type": "code",
   "execution_count": null,
   "metadata": {},
   "outputs": [],
   "source": [
    "pct_thr = 99.95\n",
    "thr = np.percentile(WF,pct_thr)\n",
    "\n",
    "plt.figure(figsize=(5,5))\n",
    "plt.imshow(WF_2d_sort*(WF_2d_sort>thr),cmap='RdBu_r',vmin=-thr,vmax=thr)\n",
    "for net in range(7):\n",
    "    plt.hlines(y=np.sum(network_length[:net]),xmin=0,xmax=n_rois)\n",
    "    plt.vlines(x=np.sum(network_length[:net]),ymin=0,ymax=n_rois)\n",
    "plt.title('Largest WF')\n",
    "plt.show()"
   ]
  },
  {
   "cell_type": "markdown",
   "metadata": {},
   "source": [
    "# Visualize on 3D brain space"
   ]
  },
  {
   "cell_type": "code",
   "execution_count": null,
   "metadata": {},
   "outputs": [],
   "source": [
    "from nilearn import datasets\n",
    "from nilearn import plotting\n",
    "from nilearn import image\n",
    "\n",
    "atlas_schaefer = datasets.fetch_atlas_schaefer_2018(n_rois=n_rois, yeo_networks=7, resolution_mm=2)\n",
    "coord_schaefer = plotting.find_parcellation_cut_coords(atlas_schaefer['maps'])\n",
    "roi_net_info = pd.read_table('/users/hailey/data/05_conference_workshop_grant/2023_KNU_bootcamp/to_share/7networks_info.txt',names=['index','name','R','G','B','etc'])\n",
    "roi_RGB = np.vstack([roi_net_info['R'].to_numpy(),roi_net_info['G'].to_numpy(),roi_net_info['B'].to_numpy()]).T/255"
   ]
  },
  {
   "cell_type": "code",
   "execution_count": null,
   "metadata": {},
   "outputs": [],
   "source": [
    "fig = plt.figure(figsize=(10,5))\n",
    "plotting.plot_connectome(WF_2d*(WF_2d>thr), coord_schaefer, figure=fig, title='Largest WF',\n",
    "                         display_mode='lzr', node_color=roi_RGB, node_size=50, colorbar=True)\n",
    "plotting.show()"
   ]
  },
  {
   "cell_type": "code",
   "execution_count": null,
   "metadata": {},
   "outputs": [],
   "source": [
    "plotting.view_connectome(WF_2d*(WF_2d>thr), coord_schaefer, title='Largest WF', colorbar=True) "
   ]
  },
  {
   "cell_type": "code",
   "execution_count": null,
   "metadata": {},
   "outputs": [],
   "source": []
  }
 ],
 "metadata": {
  "kernelspec": {
   "display_name": "Python 3",
   "language": "python",
   "name": "python3"
  },
  "language_info": {
   "codemirror_mode": {
    "name": "ipython",
    "version": 3
   },
   "file_extension": ".py",
   "mimetype": "text/x-python",
   "name": "python",
   "nbconvert_exporter": "python",
   "pygments_lexer": "ipython3",
   "version": "3.6.10"
  }
 },
 "nbformat": 4,
 "nbformat_minor": 4
}
